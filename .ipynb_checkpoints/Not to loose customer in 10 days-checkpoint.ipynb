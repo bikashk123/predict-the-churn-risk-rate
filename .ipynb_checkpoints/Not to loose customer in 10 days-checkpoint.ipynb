{
 "cells": [
  {
   "cell_type": "code",
   "execution_count": 1,
   "metadata": {},
   "outputs": [],
   "source": [
    "import pandas as pd\n",
    "import numpy as np\n",
    "import matplotlib.pyplot as plt"
   ]
  },
  {
   "cell_type": "code",
   "execution_count": 2,
   "metadata": {},
   "outputs": [],
   "source": [
    "dtrain=pd.read_csv('train.csv')"
   ]
  },
  {
   "cell_type": "code",
   "execution_count": 3,
   "metadata": {},
   "outputs": [
    {
     "data": {
      "text/html": [
       "<div>\n",
       "<style scoped>\n",
       "    .dataframe tbody tr th:only-of-type {\n",
       "        vertical-align: middle;\n",
       "    }\n",
       "\n",
       "    .dataframe tbody tr th {\n",
       "        vertical-align: top;\n",
       "    }\n",
       "\n",
       "    .dataframe thead th {\n",
       "        text-align: right;\n",
       "    }\n",
       "</style>\n",
       "<table border=\"1\" class=\"dataframe\">\n",
       "  <thead>\n",
       "    <tr style=\"text-align: right;\">\n",
       "      <th></th>\n",
       "      <th>customer_id</th>\n",
       "      <th>Name</th>\n",
       "      <th>age</th>\n",
       "      <th>gender</th>\n",
       "      <th>security_no</th>\n",
       "      <th>region_category</th>\n",
       "      <th>membership_category</th>\n",
       "      <th>joining_date</th>\n",
       "      <th>joined_through_referral</th>\n",
       "      <th>referral_id</th>\n",
       "      <th>...</th>\n",
       "      <th>avg_time_spent</th>\n",
       "      <th>avg_transaction_value</th>\n",
       "      <th>avg_frequency_login_days</th>\n",
       "      <th>points_in_wallet</th>\n",
       "      <th>used_special_discount</th>\n",
       "      <th>offer_application_preference</th>\n",
       "      <th>past_complaint</th>\n",
       "      <th>complaint_status</th>\n",
       "      <th>feedback</th>\n",
       "      <th>churn_risk_score</th>\n",
       "    </tr>\n",
       "  </thead>\n",
       "  <tbody>\n",
       "    <tr>\n",
       "      <th>0</th>\n",
       "      <td>fffe4300490044003600300030003800</td>\n",
       "      <td>Pattie Morrisey</td>\n",
       "      <td>18</td>\n",
       "      <td>F</td>\n",
       "      <td>XW0DQ7H</td>\n",
       "      <td>Village</td>\n",
       "      <td>Platinum Membership</td>\n",
       "      <td>2017-08-17</td>\n",
       "      <td>No</td>\n",
       "      <td>xxxxxxxx</td>\n",
       "      <td>...</td>\n",
       "      <td>300.63</td>\n",
       "      <td>53005.25</td>\n",
       "      <td>17.0</td>\n",
       "      <td>781.75</td>\n",
       "      <td>Yes</td>\n",
       "      <td>Yes</td>\n",
       "      <td>No</td>\n",
       "      <td>Not Applicable</td>\n",
       "      <td>Products always in Stock</td>\n",
       "      <td>2</td>\n",
       "    </tr>\n",
       "    <tr>\n",
       "      <th>1</th>\n",
       "      <td>fffe43004900440032003100300035003700</td>\n",
       "      <td>Traci Peery</td>\n",
       "      <td>32</td>\n",
       "      <td>F</td>\n",
       "      <td>5K0N3X1</td>\n",
       "      <td>City</td>\n",
       "      <td>Premium Membership</td>\n",
       "      <td>2017-08-28</td>\n",
       "      <td>?</td>\n",
       "      <td>CID21329</td>\n",
       "      <td>...</td>\n",
       "      <td>306.34</td>\n",
       "      <td>12838.38</td>\n",
       "      <td>10.0</td>\n",
       "      <td>NaN</td>\n",
       "      <td>Yes</td>\n",
       "      <td>No</td>\n",
       "      <td>Yes</td>\n",
       "      <td>Solved</td>\n",
       "      <td>Quality Customer Care</td>\n",
       "      <td>1</td>\n",
       "    </tr>\n",
       "    <tr>\n",
       "      <th>2</th>\n",
       "      <td>fffe4300490044003100390032003600</td>\n",
       "      <td>Merideth Mcmeen</td>\n",
       "      <td>44</td>\n",
       "      <td>F</td>\n",
       "      <td>1F2TCL3</td>\n",
       "      <td>Town</td>\n",
       "      <td>No Membership</td>\n",
       "      <td>2016-11-11</td>\n",
       "      <td>Yes</td>\n",
       "      <td>CID12313</td>\n",
       "      <td>...</td>\n",
       "      <td>516.16</td>\n",
       "      <td>21027.00</td>\n",
       "      <td>22.0</td>\n",
       "      <td>500.69</td>\n",
       "      <td>No</td>\n",
       "      <td>Yes</td>\n",
       "      <td>Yes</td>\n",
       "      <td>Solved in Follow-up</td>\n",
       "      <td>Poor Website</td>\n",
       "      <td>5</td>\n",
       "    </tr>\n",
       "    <tr>\n",
       "      <th>3</th>\n",
       "      <td>fffe43004900440036003000330031003600</td>\n",
       "      <td>Eufemia Cardwell</td>\n",
       "      <td>37</td>\n",
       "      <td>M</td>\n",
       "      <td>VJGJ33N</td>\n",
       "      <td>City</td>\n",
       "      <td>No Membership</td>\n",
       "      <td>2016-10-29</td>\n",
       "      <td>Yes</td>\n",
       "      <td>CID3793</td>\n",
       "      <td>...</td>\n",
       "      <td>53.27</td>\n",
       "      <td>25239.56</td>\n",
       "      <td>6.0</td>\n",
       "      <td>567.66</td>\n",
       "      <td>No</td>\n",
       "      <td>Yes</td>\n",
       "      <td>Yes</td>\n",
       "      <td>Unsolved</td>\n",
       "      <td>Poor Website</td>\n",
       "      <td>5</td>\n",
       "    </tr>\n",
       "    <tr>\n",
       "      <th>4</th>\n",
       "      <td>fffe43004900440031003900350030003600</td>\n",
       "      <td>Meghan Kosak</td>\n",
       "      <td>31</td>\n",
       "      <td>F</td>\n",
       "      <td>SVZXCWB</td>\n",
       "      <td>City</td>\n",
       "      <td>No Membership</td>\n",
       "      <td>2017-09-12</td>\n",
       "      <td>No</td>\n",
       "      <td>xxxxxxxx</td>\n",
       "      <td>...</td>\n",
       "      <td>113.13</td>\n",
       "      <td>24483.66</td>\n",
       "      <td>16.0</td>\n",
       "      <td>663.06</td>\n",
       "      <td>No</td>\n",
       "      <td>Yes</td>\n",
       "      <td>Yes</td>\n",
       "      <td>Solved</td>\n",
       "      <td>Poor Website</td>\n",
       "      <td>5</td>\n",
       "    </tr>\n",
       "  </tbody>\n",
       "</table>\n",
       "<p>5 rows × 25 columns</p>\n",
       "</div>"
      ],
      "text/plain": [
       "                            customer_id              Name  age gender  \\\n",
       "0      fffe4300490044003600300030003800   Pattie Morrisey   18      F   \n",
       "1  fffe43004900440032003100300035003700       Traci Peery   32      F   \n",
       "2      fffe4300490044003100390032003600   Merideth Mcmeen   44      F   \n",
       "3  fffe43004900440036003000330031003600  Eufemia Cardwell   37      M   \n",
       "4  fffe43004900440031003900350030003600      Meghan Kosak   31      F   \n",
       "\n",
       "  security_no region_category  membership_category joining_date  \\\n",
       "0     XW0DQ7H         Village  Platinum Membership   2017-08-17   \n",
       "1     5K0N3X1            City   Premium Membership   2017-08-28   \n",
       "2     1F2TCL3            Town        No Membership   2016-11-11   \n",
       "3     VJGJ33N            City        No Membership   2016-10-29   \n",
       "4     SVZXCWB            City        No Membership   2017-09-12   \n",
       "\n",
       "  joined_through_referral referral_id  ... avg_time_spent  \\\n",
       "0                      No    xxxxxxxx  ...         300.63   \n",
       "1                       ?    CID21329  ...         306.34   \n",
       "2                     Yes    CID12313  ...         516.16   \n",
       "3                     Yes     CID3793  ...          53.27   \n",
       "4                      No    xxxxxxxx  ...         113.13   \n",
       "\n",
       "  avg_transaction_value avg_frequency_login_days points_in_wallet  \\\n",
       "0              53005.25                     17.0           781.75   \n",
       "1              12838.38                     10.0              NaN   \n",
       "2              21027.00                     22.0           500.69   \n",
       "3              25239.56                      6.0           567.66   \n",
       "4              24483.66                     16.0           663.06   \n",
       "\n",
       "   used_special_discount  offer_application_preference  past_complaint  \\\n",
       "0                    Yes                           Yes              No   \n",
       "1                    Yes                            No             Yes   \n",
       "2                     No                           Yes             Yes   \n",
       "3                     No                           Yes             Yes   \n",
       "4                     No                           Yes             Yes   \n",
       "\n",
       "      complaint_status                  feedback churn_risk_score  \n",
       "0       Not Applicable  Products always in Stock                2  \n",
       "1               Solved     Quality Customer Care                1  \n",
       "2  Solved in Follow-up              Poor Website                5  \n",
       "3             Unsolved              Poor Website                5  \n",
       "4               Solved              Poor Website                5  \n",
       "\n",
       "[5 rows x 25 columns]"
      ]
     },
     "execution_count": 3,
     "metadata": {},
     "output_type": "execute_result"
    }
   ],
   "source": [
    "dtrain.head()"
   ]
  },
  {
   "cell_type": "code",
   "execution_count": 4,
   "metadata": {},
   "outputs": [
    {
     "data": {
      "text/plain": [
       "Index(['customer_id', 'Name', 'age', 'gender', 'security_no',\n",
       "       'region_category', 'membership_category', 'joining_date',\n",
       "       'joined_through_referral', 'referral_id', 'preferred_offer_types',\n",
       "       'medium_of_operation', 'internet_option', 'last_visit_time',\n",
       "       'days_since_last_login', 'avg_time_spent', 'avg_transaction_value',\n",
       "       'avg_frequency_login_days', 'points_in_wallet', 'used_special_discount',\n",
       "       'offer_application_preference', 'past_complaint', 'complaint_status',\n",
       "       'feedback', 'churn_risk_score'],\n",
       "      dtype='object')"
      ]
     },
     "execution_count": 4,
     "metadata": {},
     "output_type": "execute_result"
    }
   ],
   "source": [
    "dtrain.columns"
   ]
  },
  {
   "cell_type": "code",
   "execution_count": 5,
   "metadata": {
    "scrolled": false
   },
   "outputs": [
    {
     "data": {
      "text/plain": [
       "customer_id                      object\n",
       "Name                             object\n",
       "age                               int64\n",
       "gender                           object\n",
       "security_no                      object\n",
       "region_category                  object\n",
       "membership_category              object\n",
       "joining_date                     object\n",
       "joined_through_referral          object\n",
       "referral_id                      object\n",
       "preferred_offer_types            object\n",
       "medium_of_operation              object\n",
       "internet_option                  object\n",
       "last_visit_time                  object\n",
       "days_since_last_login             int64\n",
       "avg_time_spent                  float64\n",
       "avg_transaction_value           float64\n",
       "avg_frequency_login_days         object\n",
       "points_in_wallet                float64\n",
       "used_special_discount            object\n",
       "offer_application_preference     object\n",
       "past_complaint                   object\n",
       "complaint_status                 object\n",
       "feedback                         object\n",
       "churn_risk_score                  int64\n",
       "dtype: object"
      ]
     },
     "execution_count": 5,
     "metadata": {},
     "output_type": "execute_result"
    }
   ],
   "source": [
    "dtrain.dtypes"
   ]
  },
  {
   "cell_type": "code",
   "execution_count": 6,
   "metadata": {},
   "outputs": [
    {
     "data": {
      "text/plain": [
       "(36992, 25)"
      ]
     },
     "execution_count": 6,
     "metadata": {},
     "output_type": "execute_result"
    }
   ],
   "source": [
    "dtrain.shape"
   ]
  },
  {
   "cell_type": "code",
   "execution_count": 7,
   "metadata": {},
   "outputs": [
    {
     "data": {
      "text/plain": [
       "customer_id                        0\n",
       "Name                               0\n",
       "age                                0\n",
       "gender                             0\n",
       "security_no                        0\n",
       "region_category                 5428\n",
       "membership_category                0\n",
       "joining_date                       0\n",
       "joined_through_referral            0\n",
       "referral_id                        0\n",
       "preferred_offer_types            288\n",
       "medium_of_operation                0\n",
       "internet_option                    0\n",
       "last_visit_time                    0\n",
       "days_since_last_login              0\n",
       "avg_time_spent                     0\n",
       "avg_transaction_value              0\n",
       "avg_frequency_login_days           0\n",
       "points_in_wallet                3443\n",
       "used_special_discount              0\n",
       "offer_application_preference       0\n",
       "past_complaint                     0\n",
       "complaint_status                   0\n",
       "feedback                           0\n",
       "churn_risk_score                   0\n",
       "dtype: int64"
      ]
     },
     "execution_count": 7,
     "metadata": {},
     "output_type": "execute_result"
    }
   ],
   "source": [
    "dtrain.isnull().sum()"
   ]
  },
  {
   "cell_type": "code",
   "execution_count": 8,
   "metadata": {},
   "outputs": [
    {
     "name": "stdout",
     "output_type": "stream",
     "text": [
      "['customer_id', 'Name', 'gender', 'security_no', 'region_category', 'membership_category', 'joining_date', 'joined_through_referral', 'referral_id', 'preferred_offer_types', 'medium_of_operation', 'internet_option', 'last_visit_time', 'avg_frequency_login_days', 'used_special_discount', 'offer_application_preference', 'past_complaint', 'complaint_status', 'feedback']\n"
     ]
    }
   ],
   "source": [
    "categorical=[]\n",
    "for i in dtrain.columns:\n",
    "    if dtrain[i].dtypes=='object':\n",
    "        categorical.append(i)\n",
    "print(categorical)        "
   ]
  },
  {
   "cell_type": "code",
   "execution_count": 9,
   "metadata": {},
   "outputs": [
    {
     "name": "stdout",
     "output_type": "stream",
     "text": [
      "customer_id: ['fffe4300490044003600300030003800' 'fffe43004900440032003100300035003700'\n",
      " 'fffe4300490044003100390032003600' ... 'fffe4300490044003500330034003100'\n",
      " 'fffe43004900440031003200390039003000'\n",
      " 'fffe43004900440033003600340034003200']\n",
      "\n",
      "Name: ['Pattie Morrisey' 'Traci Peery' 'Merideth Mcmeen' ... 'Luciana Kinch'\n",
      " 'Tawana Ardoin' 'Verlene Beaulieu']\n",
      "\n",
      "gender: ['F' 'M' 'Unknown']\n",
      "\n",
      "security_no: ['XW0DQ7H' '5K0N3X1' '1F2TCL3' ... 'XK1IM9H' 'K6VTP1Z' 'LBX0GLR']\n",
      "\n",
      "region_category: ['Village' 'City' 'Town' nan]\n",
      "\n",
      "membership_category: ['Platinum Membership' 'Premium Membership' 'No Membership'\n",
      " 'Gold Membership' 'Silver Membership' 'Basic Membership']\n",
      "\n",
      "joining_date: ['2017-08-17' '2017-08-28' '2016-11-11' ... '2017-12-11' '2016-09-25'\n",
      " '2017-04-15']\n",
      "\n",
      "joined_through_referral: ['No' '?' 'Yes']\n",
      "\n",
      "referral_id: ['xxxxxxxx' 'CID21329' 'CID12313' ... 'CID60808' 'CID10431' 'CID45477']\n",
      "\n",
      "preferred_offer_types: ['Gift Vouchers/Coupons' 'Credit/Debit Card Offers' 'Without Offers' nan]\n",
      "\n",
      "medium_of_operation: ['?' 'Desktop' 'Smartphone' 'Both']\n",
      "\n",
      "internet_option: ['Wi-Fi' 'Mobile_Data' 'Fiber_Optic']\n",
      "\n",
      "last_visit_time: ['16:08:02' '12:38:13' '22:53:21' ... '04:14:05' '09:50:03' '01:39:52']\n",
      "\n",
      "avg_frequency_login_days: ['17.0' '10.0' '22.0' ... '-9.32551114210603' '-8.759329712785977'\n",
      " '27.8399274405269']\n",
      "\n",
      "used_special_discount: ['Yes' 'No']\n",
      "\n",
      "offer_application_preference: ['Yes' 'No']\n",
      "\n",
      "past_complaint: ['No' 'Yes']\n",
      "\n",
      "complaint_status: ['Not Applicable' 'Solved' 'Solved in Follow-up' 'Unsolved'\n",
      " 'No Information Available']\n",
      "\n",
      "feedback: ['Products always in Stock' 'Quality Customer Care' 'Poor Website'\n",
      " 'No reason specified' 'Poor Product Quality' 'Poor Customer Service'\n",
      " 'Too many ads' 'User Friendly Website' 'Reasonable Price']\n",
      "\n"
     ]
    }
   ],
   "source": [
    "for i in categorical:\n",
    "    print(i+':',end=' ')\n",
    "    print(dtrain[i].unique())\n",
    "    print()"
   ]
  },
  {
   "cell_type": "code",
   "execution_count": 10,
   "metadata": {},
   "outputs": [
    {
     "data": {
      "text/plain": [
       "F          18490\n",
       "M          18443\n",
       "Unknown       59\n",
       "Name: gender, dtype: int64"
      ]
     },
     "execution_count": 10,
     "metadata": {},
     "output_type": "execute_result"
    }
   ],
   "source": [
    "dtrain['gender'].value_counts()"
   ]
  },
  {
   "cell_type": "code",
   "execution_count": 11,
   "metadata": {},
   "outputs": [
    {
     "data": {
      "text/plain": [
       "0"
      ]
     },
     "execution_count": 11,
     "metadata": {},
     "output_type": "execute_result"
    }
   ],
   "source": [
    "# check duplicate value\n",
    "dtrain['customer_id'].duplicated().sum() "
   ]
  },
  {
   "cell_type": "code",
   "execution_count": 12,
   "metadata": {},
   "outputs": [],
   "source": [
    "dtrain1=dtrain.drop(['customer_id','Name'],axis=1)"
   ]
  },
  {
   "cell_type": "code",
   "execution_count": 13,
   "metadata": {},
   "outputs": [
    {
     "data": {
      "text/plain": [
       "Desktop       13913\n",
       "Smartphone    13876\n",
       "?              5393\n",
       "Both           3810\n",
       "Name: medium_of_operation, dtype: int64"
      ]
     },
     "execution_count": 13,
     "metadata": {},
     "output_type": "execute_result"
    }
   ],
   "source": [
    "dtrain1['medium_of_operation'].value_counts()"
   ]
  },
  {
   "cell_type": "code",
   "execution_count": 14,
   "metadata": {},
   "outputs": [],
   "source": [
    "dtrain1.drop(dtrain1.loc[dtrain1['medium_of_operation']=='?'].index, inplace=True)"
   ]
  },
  {
   "cell_type": "code",
   "execution_count": 15,
   "metadata": {},
   "outputs": [],
   "source": [
    "dtrain1.drop(dtrain1.loc[dtrain1['joined_through_referral']=='?'].index, inplace=True)"
   ]
  },
  {
   "cell_type": "code",
   "execution_count": 16,
   "metadata": {},
   "outputs": [],
   "source": [
    "dtrain1.drop(dtrain1.loc[dtrain1['joined_through_referral']=='?'].index, inplace=True)"
   ]
  },
  {
   "cell_type": "code",
   "execution_count": 17,
   "metadata": {},
   "outputs": [
    {
     "data": {
      "text/plain": [
       "Index(['age', 'gender', 'security_no', 'region_category',\n",
       "       'membership_category', 'joining_date', 'joined_through_referral',\n",
       "       'referral_id', 'preferred_offer_types', 'medium_of_operation',\n",
       "       'internet_option', 'last_visit_time', 'days_since_last_login',\n",
       "       'avg_time_spent', 'avg_transaction_value', 'avg_frequency_login_days',\n",
       "       'points_in_wallet', 'used_special_discount',\n",
       "       'offer_application_preference', 'past_complaint', 'complaint_status',\n",
       "       'feedback', 'churn_risk_score'],\n",
       "      dtype='object')"
      ]
     },
     "execution_count": 17,
     "metadata": {},
     "output_type": "execute_result"
    }
   ],
   "source": [
    "dtrain1.columns"
   ]
  },
  {
   "cell_type": "code",
   "execution_count": 26,
   "metadata": {},
   "outputs": [],
   "source": [
    "def replace(dtrain1):\n",
    "    for column in dtrain1.columns[dtrain1.columns.isin(['joined_through_referral','used_special_discount','offer_application_preference','past_complaint'])]:\n",
    "          dtrain1[column]=dtrain1[column].replace(('Yes','No'),(1, 0))\n",
    "    return dtrain1 "
   ]
  },
  {
   "cell_type": "code",
   "execution_count": 27,
   "metadata": {},
   "outputs": [],
   "source": [
    "dtrain2=replace(dtrain1.copy())"
   ]
  },
  {
   "cell_type": "code",
   "execution_count": 29,
   "metadata": {},
   "outputs": [
    {
     "data": {
      "text/html": [
       "<div>\n",
       "<style scoped>\n",
       "    .dataframe tbody tr th:only-of-type {\n",
       "        vertical-align: middle;\n",
       "    }\n",
       "\n",
       "    .dataframe tbody tr th {\n",
       "        vertical-align: top;\n",
       "    }\n",
       "\n",
       "    .dataframe thead th {\n",
       "        text-align: right;\n",
       "    }\n",
       "</style>\n",
       "<table border=\"1\" class=\"dataframe\">\n",
       "  <thead>\n",
       "    <tr style=\"text-align: right;\">\n",
       "      <th></th>\n",
       "      <th>age</th>\n",
       "      <th>gender</th>\n",
       "      <th>security_no</th>\n",
       "      <th>region_category</th>\n",
       "      <th>membership_category</th>\n",
       "      <th>joining_date</th>\n",
       "      <th>joined_through_referral</th>\n",
       "      <th>referral_id</th>\n",
       "      <th>preferred_offer_types</th>\n",
       "      <th>medium_of_operation</th>\n",
       "      <th>...</th>\n",
       "      <th>avg_time_spent</th>\n",
       "      <th>avg_transaction_value</th>\n",
       "      <th>avg_frequency_login_days</th>\n",
       "      <th>points_in_wallet</th>\n",
       "      <th>used_special_discount</th>\n",
       "      <th>offer_application_preference</th>\n",
       "      <th>past_complaint</th>\n",
       "      <th>complaint_status</th>\n",
       "      <th>feedback</th>\n",
       "      <th>churn_risk_score</th>\n",
       "    </tr>\n",
       "  </thead>\n",
       "  <tbody>\n",
       "    <tr>\n",
       "      <th>2</th>\n",
       "      <td>44</td>\n",
       "      <td>F</td>\n",
       "      <td>1F2TCL3</td>\n",
       "      <td>Town</td>\n",
       "      <td>No Membership</td>\n",
       "      <td>2016-11-11</td>\n",
       "      <td>1</td>\n",
       "      <td>CID12313</td>\n",
       "      <td>Gift Vouchers/Coupons</td>\n",
       "      <td>Desktop</td>\n",
       "      <td>...</td>\n",
       "      <td>516.16</td>\n",
       "      <td>21027.00</td>\n",
       "      <td>22.0</td>\n",
       "      <td>500.69</td>\n",
       "      <td>0</td>\n",
       "      <td>1</td>\n",
       "      <td>1</td>\n",
       "      <td>Solved in Follow-up</td>\n",
       "      <td>Poor Website</td>\n",
       "      <td>5</td>\n",
       "    </tr>\n",
       "    <tr>\n",
       "      <th>3</th>\n",
       "      <td>37</td>\n",
       "      <td>M</td>\n",
       "      <td>VJGJ33N</td>\n",
       "      <td>City</td>\n",
       "      <td>No Membership</td>\n",
       "      <td>2016-10-29</td>\n",
       "      <td>1</td>\n",
       "      <td>CID3793</td>\n",
       "      <td>Gift Vouchers/Coupons</td>\n",
       "      <td>Desktop</td>\n",
       "      <td>...</td>\n",
       "      <td>53.27</td>\n",
       "      <td>25239.56</td>\n",
       "      <td>6.0</td>\n",
       "      <td>567.66</td>\n",
       "      <td>0</td>\n",
       "      <td>1</td>\n",
       "      <td>1</td>\n",
       "      <td>Unsolved</td>\n",
       "      <td>Poor Website</td>\n",
       "      <td>5</td>\n",
       "    </tr>\n",
       "    <tr>\n",
       "      <th>4</th>\n",
       "      <td>31</td>\n",
       "      <td>F</td>\n",
       "      <td>SVZXCWB</td>\n",
       "      <td>City</td>\n",
       "      <td>No Membership</td>\n",
       "      <td>2017-09-12</td>\n",
       "      <td>0</td>\n",
       "      <td>xxxxxxxx</td>\n",
       "      <td>Credit/Debit Card Offers</td>\n",
       "      <td>Smartphone</td>\n",
       "      <td>...</td>\n",
       "      <td>113.13</td>\n",
       "      <td>24483.66</td>\n",
       "      <td>16.0</td>\n",
       "      <td>663.06</td>\n",
       "      <td>0</td>\n",
       "      <td>1</td>\n",
       "      <td>1</td>\n",
       "      <td>Solved</td>\n",
       "      <td>Poor Website</td>\n",
       "      <td>5</td>\n",
       "    </tr>\n",
       "    <tr>\n",
       "      <th>6</th>\n",
       "      <td>21</td>\n",
       "      <td>M</td>\n",
       "      <td>R3CX1EA</td>\n",
       "      <td>Town</td>\n",
       "      <td>Gold Membership</td>\n",
       "      <td>2015-03-19</td>\n",
       "      <td>1</td>\n",
       "      <td>CID24708</td>\n",
       "      <td>Gift Vouchers/Coupons</td>\n",
       "      <td>Desktop</td>\n",
       "      <td>...</td>\n",
       "      <td>55.38</td>\n",
       "      <td>8982.50</td>\n",
       "      <td>28.0</td>\n",
       "      <td>756.21</td>\n",
       "      <td>1</td>\n",
       "      <td>0</td>\n",
       "      <td>1</td>\n",
       "      <td>Solved in Follow-up</td>\n",
       "      <td>No reason specified</td>\n",
       "      <td>3</td>\n",
       "    </tr>\n",
       "    <tr>\n",
       "      <th>8</th>\n",
       "      <td>44</td>\n",
       "      <td>M</td>\n",
       "      <td>0481QNQ</td>\n",
       "      <td>Village</td>\n",
       "      <td>Silver Membership</td>\n",
       "      <td>2016-12-14</td>\n",
       "      <td>0</td>\n",
       "      <td>xxxxxxxx</td>\n",
       "      <td>Without Offers</td>\n",
       "      <td>Smartphone</td>\n",
       "      <td>...</td>\n",
       "      <td>191.07</td>\n",
       "      <td>18362.31</td>\n",
       "      <td>20.0</td>\n",
       "      <td>NaN</td>\n",
       "      <td>1</td>\n",
       "      <td>0</td>\n",
       "      <td>1</td>\n",
       "      <td>Solved in Follow-up</td>\n",
       "      <td>Poor Customer Service</td>\n",
       "      <td>3</td>\n",
       "    </tr>\n",
       "  </tbody>\n",
       "</table>\n",
       "<p>5 rows × 23 columns</p>\n",
       "</div>"
      ],
      "text/plain": [
       "   age gender security_no region_category membership_category joining_date  \\\n",
       "2   44      F     1F2TCL3            Town       No Membership   2016-11-11   \n",
       "3   37      M     VJGJ33N            City       No Membership   2016-10-29   \n",
       "4   31      F     SVZXCWB            City       No Membership   2017-09-12   \n",
       "6   21      M     R3CX1EA            Town     Gold Membership   2015-03-19   \n",
       "8   44      M     0481QNQ         Village   Silver Membership   2016-12-14   \n",
       "\n",
       "   joined_through_referral referral_id     preferred_offer_types  \\\n",
       "2                        1    CID12313     Gift Vouchers/Coupons   \n",
       "3                        1     CID3793     Gift Vouchers/Coupons   \n",
       "4                        0    xxxxxxxx  Credit/Debit Card Offers   \n",
       "6                        1    CID24708     Gift Vouchers/Coupons   \n",
       "8                        0    xxxxxxxx            Without Offers   \n",
       "\n",
       "  medium_of_operation  ... avg_time_spent avg_transaction_value  \\\n",
       "2             Desktop  ...         516.16              21027.00   \n",
       "3             Desktop  ...          53.27              25239.56   \n",
       "4          Smartphone  ...         113.13              24483.66   \n",
       "6             Desktop  ...          55.38               8982.50   \n",
       "8          Smartphone  ...         191.07              18362.31   \n",
       "\n",
       "   avg_frequency_login_days  points_in_wallet  used_special_discount  \\\n",
       "2                      22.0            500.69                      0   \n",
       "3                       6.0            567.66                      0   \n",
       "4                      16.0            663.06                      0   \n",
       "6                      28.0            756.21                      1   \n",
       "8                      20.0               NaN                      1   \n",
       "\n",
       "  offer_application_preference  past_complaint     complaint_status  \\\n",
       "2                            1               1  Solved in Follow-up   \n",
       "3                            1               1             Unsolved   \n",
       "4                            1               1               Solved   \n",
       "6                            0               1  Solved in Follow-up   \n",
       "8                            0               1  Solved in Follow-up   \n",
       "\n",
       "                feedback  churn_risk_score  \n",
       "2           Poor Website                 5  \n",
       "3           Poor Website                 5  \n",
       "4           Poor Website                 5  \n",
       "6    No reason specified                 3  \n",
       "8  Poor Customer Service                 3  \n",
       "\n",
       "[5 rows x 23 columns]"
      ]
     },
     "execution_count": 29,
     "metadata": {},
     "output_type": "execute_result"
    }
   ],
   "source": [
    "dtrain2.head()"
   ]
  },
  {
   "cell_type": "code",
   "execution_count": 30,
   "metadata": {},
   "outputs": [
    {
     "data": {
      "text/plain": [
       "xxxxxxxx    14720\n",
       "CID43705       10\n",
       "CID3979         9\n",
       "CID49601        8\n",
       "CID42390        7\n",
       "            ...  \n",
       "CID14080        1\n",
       "CID38528        1\n",
       "CID26321        1\n",
       "CID48235        1\n",
       "CID46204        1\n",
       "Name: referral_id, Length: 8536, dtype: int64"
      ]
     },
     "execution_count": 30,
     "metadata": {},
     "output_type": "execute_result"
    }
   ],
   "source": [
    "dtrain2['referral_id'].value_counts()"
   ]
  },
  {
   "cell_type": "code",
   "execution_count": 34,
   "metadata": {},
   "outputs": [],
   "source": [
    "dtrain2['points_in_wallet']=dtrain2['points_in_wallet'].fillna(value=dtrain['points_in_wallet'].mean())"
   ]
  },
  {
   "cell_type": "code",
   "execution_count": 36,
   "metadata": {},
   "outputs": [],
   "source": [
    "dtrain2=dtrain2.dropna()"
   ]
  },
  {
   "cell_type": "code",
   "execution_count": 37,
   "metadata": {},
   "outputs": [
    {
     "data": {
      "text/plain": [
       "age                             False\n",
       "gender                          False\n",
       "security_no                     False\n",
       "region_category                 False\n",
       "membership_category             False\n",
       "joining_date                    False\n",
       "joined_through_referral         False\n",
       "referral_id                     False\n",
       "preferred_offer_types           False\n",
       "medium_of_operation             False\n",
       "internet_option                 False\n",
       "last_visit_time                 False\n",
       "days_since_last_login           False\n",
       "avg_time_spent                  False\n",
       "avg_transaction_value           False\n",
       "avg_frequency_login_days        False\n",
       "points_in_wallet                False\n",
       "used_special_discount           False\n",
       "offer_application_preference    False\n",
       "past_complaint                  False\n",
       "complaint_status                False\n",
       "feedback                        False\n",
       "churn_risk_score                False\n",
       "dtype: bool"
      ]
     },
     "execution_count": 37,
     "metadata": {},
     "output_type": "execute_result"
    }
   ],
   "source": [
    "dtrain2.isnull().any()"
   ]
  },
  {
   "cell_type": "code",
   "execution_count": null,
   "metadata": {},
   "outputs": [],
   "source": []
  }
 ],
 "metadata": {
  "kernelspec": {
   "display_name": "Python 3",
   "language": "python",
   "name": "python3"
  },
  "language_info": {
   "codemirror_mode": {
    "name": "ipython",
    "version": 3
   },
   "file_extension": ".py",
   "mimetype": "text/x-python",
   "name": "python",
   "nbconvert_exporter": "python",
   "pygments_lexer": "ipython3",
   "version": "3.8.3"
  }
 },
 "nbformat": 4,
 "nbformat_minor": 4
}
